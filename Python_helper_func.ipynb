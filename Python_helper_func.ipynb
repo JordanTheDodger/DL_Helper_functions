{
  "cells": [
    {
      "cell_type": "markdown",
      "metadata": {
        "colab_type": "text",
        "id": "view-in-github"
      },
      "source": [
        "<a href=\"https://colab.research.google.com/github/JordanTheDodger/DL_Helper_functions/blob/main/Python_essentials.ipynb\" target=\"_parent\"><img src=\"https://colab.research.google.com/assets/colab-badge.svg\" alt=\"Open In Colab\"/></a>"
      ]
    },
    {
      "cell_type": "code",
      "execution_count": null,
      "metadata": {
        "id": "JM6ljpHKO4VG"
      },
      "outputs": [],
      "source": [
        "def last_day_of_month(date):\n",
        "    import datetime as dt\n",
        "    if date.month == 12:\n",
        "        return date.replace(day=31)\n",
        "    return date.replace(month=date.month+1,day=1) -dt.timedelta(days=1)"
      ]
    },
    {
      "cell_type": "code",
      "execution_count": null,
      "metadata": {},
      "outputs": [],
      "source": []
    }
  ],
  "metadata": {
    "colab": {
      "authorship_tag": "ABX9TyNHAXEqfRKRV/+7wB0SwvvA",
      "include_colab_link": true,
      "provenance": []
    },
    "kernelspec": {
      "display_name": "Python 3",
      "name": "python3"
    },
    "language_info": {
      "name": "python"
    }
  },
  "nbformat": 4,
  "nbformat_minor": 0
}
