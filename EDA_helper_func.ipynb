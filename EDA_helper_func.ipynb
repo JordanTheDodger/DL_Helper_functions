{
 "cells": [
  {
   "cell_type": "code",
   "execution_count": 8,
   "id": "bf24b164-61c5-466e-8015-8496f05d8c15",
   "metadata": {},
   "outputs": [],
   "source": [
    "import time as t"
   ]
  },
  {
   "cell_type": "code",
   "execution_count": 4,
   "id": "a1ac8e62-964b-4915-9b71-6830133f747a",
   "metadata": {},
   "outputs": [
    {
     "name": "stdout",
     "output_type": "stream",
     "text": [
      "Python 3.13.5\n"
     ]
    }
   ],
   "source": [
    "!python --version"
   ]
  },
  {
   "cell_type": "code",
   "execution_count": 5,
   "id": "0bd75738-ef5f-4f64-8130-a11c66752ae5",
   "metadata": {},
   "outputs": [
    {
     "name": "stdout",
     "output_type": "stream",
     "text": [
      "Requirement already satisfied: polars in ./env/lib/python3.13/site-packages (1.31.0)\n"
     ]
    }
   ],
   "source": [
    "!pip install polars"
   ]
  },
  {
   "cell_type": "code",
   "execution_count": 7,
   "id": "1d65a3f9-5ed1-4beb-80e4-177388c78cd2",
   "metadata": {},
   "outputs": [],
   "source": [
    "import polars as pl\n",
    "import numpy as np\n",
    "from Typing import Optional\n",
    "import glob"
   ]
  },
  {
   "cell_type": "code",
   "execution_count": null,
   "id": "0576819f-c8fc-4b9d-ba91-2c43a7d07e92",
   "metadata": {},
   "outputs": [],
   "source": [
    "# decorator to calculate function exection time\n",
    "def measure_time(func):\n",
    "    \"\"\"\n",
    "    A decorator function to calculate execution time.\n",
    "    \"\"\"\n",
    "\n",
    "    def wrapper(**kwargs):\n",
    "        start = time.time()\n",
    "        func()\n",
    "        end = time.time()\n",
    "        print(f\"Exection time: {end - start} seconds\")\n",
    "\n",
    "    return wrapper"
   ]
  },
  {
   "cell_type": "markdown",
   "id": "d8cab059-7744-4aed-bbb8-7fbc84dd5d9d",
   "metadata": {},
   "source": [
    "> if __name__ == \"__main__\":\n",
    ">   measure_time(main())"
   ]
  },
  {
   "cell_type": "markdown",
   "id": "41081b79-84f4-420a-a2f1-3601e6e0d306",
   "metadata": {},
   "source": [
    "## Date time helper functions"
   ]
  },
  {
   "cell_type": "code",
   "execution_count": 2,
   "id": "4431e122-5227-4809-b368-de4f5b3608e0",
   "metadata": {},
   "outputs": [],
   "source": [
    "from collections import defaultdict\n",
    "from datetime import datetime"
   ]
  },
  {
   "cell_type": "markdown",
   "id": "36216df7-8162-42e8-82ba-3c0a0a856250",
   "metadata": {},
   "source": [
    "# Test Class"
   ]
  },
  {
   "cell_type": "code",
   "execution_count": null,
   "id": "181b5eaa-f453-460f-aa6b-b4ce8d1b9326",
   "metadata": {},
   "outputs": [],
   "source": [
    "class Helper:\n",
    "    def __init__(self,func_select:str)->None:\n",
    "        self.func_select = func_select\n",
    "\n",
    "    def __str__(self)->str:\n",
    "        attrs:str = ','.join(f'{k}={v!r}' for k,v in self.__dict__.items())\n",
    "        return f'{self.__class__.__name__}({attrs})'"
   ]
  },
  {
   "cell_type": "code",
   "execution_count": null,
   "id": "67e0e8e1-05c5-4fa4-8a2d-1f7c1dc9d87c",
   "metadata": {},
   "outputs": [],
   "source": []
  }
 ],
 "metadata": {
  "kernelspec": {
   "display_name": "Python 3 (ipykernel)",
   "language": "python",
   "name": "python3"
  },
  "language_info": {
   "codemirror_mode": {
    "name": "ipython",
    "version": 3
   },
   "file_extension": ".py",
   "mimetype": "text/x-python",
   "name": "python",
   "nbconvert_exporter": "python",
   "pygments_lexer": "ipython3",
   "version": "3.13.5"
  }
 },
 "nbformat": 4,
 "nbformat_minor": 5
}
