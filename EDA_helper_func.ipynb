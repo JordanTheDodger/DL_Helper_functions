{
 "cells": [
  {
   "cell_type": "code",
   "execution_count": 1,
   "id": "bf24b164-61c5-466e-8015-8496f05d8c15",
   "metadata": {},
   "outputs": [],
   "source": [
    "import time as t"
   ]
  },
  {
   "cell_type": "code",
   "execution_count": 2,
   "id": "5b81e713-8d41-4dbe-b5bf-95fb699394ba",
   "metadata": {},
   "outputs": [
    {
     "name": "stdout",
     "output_type": "stream",
     "text": [
      "polars                    1.31.0\n"
     ]
    }
   ],
   "source": [
    "!pip list | grep polars"
   ]
  },
  {
   "cell_type": "code",
   "execution_count": 3,
   "id": "b405a34c-0be5-4e81-9e41-e86c76f4cd8c",
   "metadata": {},
   "outputs": [
    {
     "name": "stdout",
     "output_type": "stream",
     "text": [
      "Note: you may need to restart the kernel to use updated packages.\n"
     ]
    }
   ],
   "source": [
    "pip list -v | grep polars"
   ]
  },
  {
   "cell_type": "code",
   "execution_count": 17,
   "id": "687550ed-467f-48cc-8e12-d22780f44afb",
   "metadata": {},
   "outputs": [
    {
     "name": "stdout",
     "output_type": "stream",
     "text": [
      "pip 24.0 from /Users/jordan/python_scripts/dev/DL_Fun-models/dev/env/lib/python3.8/site-packages/pip (python 3.8)\n",
      "Note: you may need to restart the kernel to use updated packages.\n"
     ]
    }
   ],
   "source": [
    "pip --version # !pip will point to global level"
   ]
  },
  {
   "cell_type": "code",
   "execution_count": 7,
   "id": "1a34ec17-cbd7-43f9-bdbc-b95bfd05246d",
   "metadata": {},
   "outputs": [
    {
     "name": "stdout",
     "output_type": "stream",
     "text": [
      "Name: polars\n",
      "Version: 1.31.0\n",
      "Summary: Blazingly fast DataFrame library\n",
      "Home-page: https://www.pola.rs/\n",
      "Author: \n",
      "Author-email: Ritchie Vink <ritchie46@gmail.com>\n",
      "License: \n",
      "Location: /Users/jordan/python_scripts/dev/DL_Helper_functions/env/lib/python3.13/site-packages\n",
      "Requires: \n",
      "Required-by: \n"
     ]
    }
   ],
   "source": [
    "!pip show polars #loc:python version should match with above"
   ]
  },
  {
   "cell_type": "markdown",
   "id": "3ae4ae42-f249-4007-a95f-7ef1d0fc87b5",
   "metadata": {},
   "source": [
    "> `!pip install [package]`\n",
    "> It will install in the directory of the python which is in the $PATH variable of the OS, which may or may not match with python's version of jupyter notebook.\n",
    ">\n",
    "> To solve that problem we can install it using the 'sys' library in Python, which returns the path of the current version's pip on which jupyter is running. sys.executable returns the path of the Python.exe of the current Jupyter instance.\n",
    "> eg: `!{sys.executable} -m pip install polars`"
   ]
  },
  {
   "cell_type": "code",
   "execution_count": 12,
   "id": "a1ac8e62-964b-4915-9b71-6830133f747a",
   "metadata": {},
   "outputs": [
    {
     "name": "stdout",
     "output_type": "stream",
     "text": [
      "Python 3.13.2\n"
     ]
    }
   ],
   "source": [
    "!python --version"
   ]
  },
  {
   "cell_type": "code",
   "execution_count": 14,
   "id": "a83a4369-46a0-4c28-b37f-c28ad924a60a",
   "metadata": {},
   "outputs": [
    {
     "name": "stdout",
     "output_type": "stream",
     "text": [
      "Available kernels:\n",
      "  python3    /Users/jordan/python_scripts/dev/DL_Helper_functions/env/share/jupyter/kernels/python3\n",
      "  .env       /Users/jordan/Library/Jupyter/kernels/.env\n"
     ]
    }
   ],
   "source": [
    "# !{sys.executable} -m pip install polars \n",
    "# !jupyter kernelspec list --json\n",
    "!jupyter kernelspec list"
   ]
  },
  {
   "cell_type": "code",
   "execution_count": 6,
   "id": "1d65a3f9-5ed1-4beb-80e4-177388c78cd2",
   "metadata": {},
   "outputs": [
    {
     "ename": "ModuleNotFoundError",
     "evalue": "No module named 'polars'",
     "output_type": "error",
     "traceback": [
      "\u001b[0;31m---------------------------------------------------------------------------\u001b[0m",
      "\u001b[0;31mModuleNotFoundError\u001b[0m                       Traceback (most recent call last)",
      "Cell \u001b[0;32mIn[6], line 1\u001b[0m\n\u001b[0;32m----> 1\u001b[0m \u001b[38;5;28;01mimport\u001b[39;00m \u001b[38;5;21;01mpolars\u001b[39;00m \u001b[38;5;28;01mas\u001b[39;00m \u001b[38;5;21;01mpl\u001b[39;00m\n\u001b[1;32m      2\u001b[0m \u001b[38;5;28;01mimport\u001b[39;00m \u001b[38;5;21;01mnumpy\u001b[39;00m \u001b[38;5;28;01mas\u001b[39;00m \u001b[38;5;21;01mnp\u001b[39;00m\n\u001b[1;32m      3\u001b[0m \u001b[38;5;28;01mfrom\u001b[39;00m \u001b[38;5;21;01mTyping\u001b[39;00m \u001b[38;5;28;01mimport\u001b[39;00m Optional\n",
      "\u001b[0;31mModuleNotFoundError\u001b[0m: No module named 'polars'"
     ]
    }
   ],
   "source": [
    "import polars as pl\n",
    "import numpy as np\n",
    "from Typing import Optional\n",
    "# import glob\n",
    "\n",
    "# import snowflkae manager package"
   ]
  },
  {
   "cell_type": "code",
   "execution_count": null,
   "id": "0576819f-c8fc-4b9d-ba91-2c43a7d07e92",
   "metadata": {},
   "outputs": [],
   "source": [
    "# decorator to calculate function exection time\n",
    "def measure_time(func):\n",
    "    \"\"\"\n",
    "    A decorator function to calculate execution time.\n",
    "    \"\"\"\n",
    "\n",
    "    def wrapper(**kwargs):\n",
    "        start = time.time()\n",
    "        func()\n",
    "        end = time.time()\n",
    "        print(f\"Exection time: {end - start} seconds\")\n",
    "\n",
    "    return wrapper"
   ]
  },
  {
   "cell_type": "markdown",
   "id": "d8cab059-7744-4aed-bbb8-7fbc84dd5d9d",
   "metadata": {},
   "source": [
    "> if __name__ == \"__main__\":\n",
    ">   measure_time(main())"
   ]
  },
  {
   "cell_type": "code",
   "execution_count": null,
   "id": "7995d6fc-6561-4e39-b582-e5e6dd40fe3d",
   "metadata": {},
   "outputs": [],
   "source": [
    "def index_pull(data:pl.DataFrame,new_cols_name:list[str],snflk_tbl_nm:list['rpt_sum','hist_lng'],limit=100,generate_csv=False)-> Optional[pl.DataFrame]:\n",
    "    # snwoflake login\n",
    "    # read col names for FK\n",
    "    # pulll rpt sum and join target_tbl\n",
    "    \n",
    "    # read csvs\n",
    "    # df1 = pl.scan_csv('data/')\n",
    "    \n",
    "    # or read all csv same time\n",
    "    # eg:\n",
    "    # ffs = glob.glob('data/ffs/*.csv') \n",
    "    \n",
    "    # create CTE using pl.SQLContext\n",
    "    ctx = pl.SQLContext(frames={\"cb5\":df1,\"cb6\":df2,\"cb7\":df3})\n",
    "    q1 = \"\"\"\n",
    "            WITH form_tierqs AS (\n",
    "                SELECT id,form_name, report_fiscal_yr,<Tier question data element>,\n",
    "                    CASE \n",
    "                        WHBN form_name in ('<CB2') THEN 'CB2'\n",
    "                        WHEN form_name in ('<CB_5 and CB_6>') THEN 'CB56'\n",
    "                        WHEN form_name in ('<CB_7') THEN 'CB7'\n",
    "                        ELSE form_name \n",
    "                    END as tierqs_helper\n",
    "                FROM\n",
    "                -- report_fiscal_yr and form_name (field to join rpt_sum)\n",
    "                    (SELECT id, sub_trkng_num, perf_rep_name, perf_rep_status, form_name, report_fiscal_yr, <Tier question data elements>\n",
    "                        FROM hist_lng\n",
    "                        WHERE perf_rep_staus not in ('Administratively closed')\n",
    "                        ORDER BY report_fiscal_yr)\n",
    "                )\n",
    "                \n",
    "            \n",
    "            --SELECT <rpt_sum_leading_cols> FROM rpt_sum--\n",
    "            SELECT\n",
    "                -- need to figure out how to melt tier qs data value-- \n",
    "                <pick elements from csv> LEFT JOIN on id = b.id             \n",
    "                (SELECT * FROM form_tierqs ft where tierqs_helper in ('CB2', 'CB5', 'CB6', 'CB7') ) b\n",
    "            \"\"\"\n",
    "    #check query op\n",
    "    print(ctx.execute(q1,eager=True))\n",
    "    return None"
   ]
  },
  {
   "cell_type": "code",
   "execution_count": null,
   "id": "5191bed1-b3b0-4a57-9b5f-b0925b65b88b",
   "metadata": {},
   "outputs": [],
   "source": []
  }
 ],
 "metadata": {
  "kernelspec": {
   "display_name": ".env",
   "language": "python",
   "name": ".env"
  },
  "language_info": {
   "codemirror_mode": {
    "name": "ipython",
    "version": 3
   },
   "file_extension": ".py",
   "mimetype": "text/x-python",
   "name": "python",
   "nbconvert_exporter": "python",
   "pygments_lexer": "ipython3",
   "version": "3.8.19"
  }
 },
 "nbformat": 4,
 "nbformat_minor": 5
}
