{
 "cells": [
  {
   "cell_type": "code",
   "execution_count": 8,
   "id": "bf24b164-61c5-466e-8015-8496f05d8c15",
   "metadata": {},
   "outputs": [],
   "source": [
    "import time as t"
   ]
  },
  {
   "cell_type": "code",
   "execution_count": null,
   "id": "5b81e713-8d41-4dbe-b5bf-95fb699394ba",
   "metadata": {},
   "outputs": [],
   "source": [
    "!pip list | grep polars"
   ]
  },
  {
   "cell_type": "code",
   "execution_count": null,
   "id": "b405a34c-0be5-4e81-9e41-e86c76f4cd8c",
   "metadata": {},
   "outputs": [],
   "source": [
    "pip list -v | grep polars"
   ]
  },
  {
   "cell_type": "code",
   "execution_count": null,
   "id": "687550ed-467f-48cc-8e12-d22780f44afb",
   "metadata": {},
   "outputs": [],
   "source": [
    "pip --version # !pip will point to global level"
   ]
  },
  {
   "cell_type": "code",
   "execution_count": null,
   "id": "1a34ec17-cbd7-43f9-bdbc-b95bfd05246d",
   "metadata": {},
   "outputs": [],
   "source": [
    "!pip show polars #loc:python version should match with above"
   ]
  },
  {
   "cell_type": "markdown",
   "id": "3ae4ae42-f249-4007-a95f-7ef1d0fc87b5",
   "metadata": {},
   "source": [
    "> `!pip install [package]`\n",
    "> It will install in the directory of the python which is in the $PATH variable of the OS, which may or may not match with python's version of jupyter notebook.\n",
    ">\n",
    "> To solve that problem we can install it using the 'sys' library in Python, which returns the path of the current version's pip on which jupyter is running. sys.executable returns the path of the Python.exe of the current Jupyter instance.\n",
    "> eg: `!{sys.executable} -m pip install polars`"
   ]
  },
  {
   "cell_type": "code",
   "execution_count": 4,
   "id": "a1ac8e62-964b-4915-9b71-6830133f747a",
   "metadata": {},
   "outputs": [
    {
     "name": "stdout",
     "output_type": "stream",
     "text": [
      "Python 3.13.5\n"
     ]
    }
   ],
   "source": [
    "!python --version"
   ]
  },
  {
   "cell_type": "code",
   "execution_count": 5,
   "id": "0bd75738-ef5f-4f64-8130-a11c66752ae5",
   "metadata": {},
   "outputs": [
    {
     "name": "stdout",
     "output_type": "stream",
     "text": [
      "Requirement already satisfied: polars in ./env/lib/python3.13/site-packages (1.31.0)\n"
     ]
    }
   ],
   "source": [
    "!pip install polars"
   ]
  },
  {
   "cell_type": "code",
   "execution_count": 11,
   "id": "a83a4369-46a0-4c28-b37f-c28ad924a60a",
   "metadata": {},
   "outputs": [
    {
     "name": "stdout",
     "output_type": "stream",
     "text": [
      "Available kernels:\n",
      "  python3    /Users/jordan/python_scripts/dev/DL_Helper_functions/env/share/jupyter/kernels/python3\n"
     ]
    }
   ],
   "source": [
    "# !{sys.executable} pip install polars \n",
    "!jupyter kernelspec list"
   ]
  },
  {
   "cell_type": "code",
   "execution_count": 7,
   "id": "1d65a3f9-5ed1-4beb-80e4-177388c78cd2",
   "metadata": {},
   "outputs": [],
   "source": [
    "import polars as pl\n",
    "import numpy as np\n",
    "# from Typing import Optional\n",
    "# import glob\n",
    "\n",
    "# import snowflkae manager package"
   ]
  },
  {
   "cell_type": "code",
   "execution_count": null,
   "id": "0576819f-c8fc-4b9d-ba91-2c43a7d07e92",
   "metadata": {},
   "outputs": [],
   "source": [
    "# decorator to calculate function exection time\n",
    "def measure_time(func):\n",
    "    \"\"\"\n",
    "    A decorator function to calculate execution time.\n",
    "    \"\"\"\n",
    "\n",
    "    def wrapper(**kwargs):\n",
    "        start = time.time()\n",
    "        func()\n",
    "        end = time.time()\n",
    "        print(f\"Exection time: {end - start} seconds\")\n",
    "\n",
    "    return wrapper"
   ]
  },
  {
   "cell_type": "markdown",
   "id": "d8cab059-7744-4aed-bbb8-7fbc84dd5d9d",
   "metadata": {},
   "source": [
    "> if __name__ == \"__main__\":\n",
    ">   measure_time(main())"
   ]
  },
  {
   "cell_type": "code",
   "execution_count": null,
   "id": "7995d6fc-6561-4e39-b582-e5e6dd40fe3d",
   "metadata": {},
   "outputs": [],
   "source": [
    "def index_pull(data:pl.DataFrame,new_cols_name:list[str],snflk_tbl_nm:list['rpt_sum','hist_lng'],limit=100,generate_csv=False)-> Optional[pl.DataFrame]:\n",
    "    # snwoflake login\n",
    "    # read col names for FK\n",
    "    # pulll rpt sum and join target_tbl\n",
    "    \n",
    "    # read csvs\n",
    "    # df1 = pl.scan_csv('data/')\n",
    "    \n",
    "    # or read all csv same time\n",
    "    # eg:\n",
    "    # ffs = glob.glob('data/ffs/*.csv') \n",
    "    \n",
    "    # create CTE using pl.SQLContext\n",
    "    ctx = pl.SQLContext(frames={\"cb5\":df1,\"cb6\":df2,\"cb7\":df3})\n",
    "    q1 = \"\"\"\n",
    "            WITH form_tierqs AS (\n",
    "                SELECT id,form_name, report_fiscal_yr,<Tier question data element>,\n",
    "                    CASE \n",
    "                        WHBN form_name in ('<CB2') THEN 'CB2'\n",
    "                        WHEN form_name in ('<CB_5 and CB_6>') THEN 'CB56'\n",
    "                        WHEN form_name in ('<CB_7') THEN 'CB7'\n",
    "                        ELSE form_name \n",
    "                    END as tierqs_helper\n",
    "                FROM\n",
    "                -- report_fiscal_yr and form_name (field to join rpt_sum)\n",
    "                    (SELECT id, sub_trkng_num, perf_rep_name, perf_rep_status, form_name, report_fiscal_yr, <Tier question data elements>\n",
    "                        FROM hist_lng\n",
    "                        WHERE perf_rep_staus not in ('Administratively closed')\n",
    "                        ORDER BY report_fiscal_yr)\n",
    "                )\n",
    "                \n",
    "            \n",
    "            --SELECT <rpt_sum_leading_cols> FROM rpt_sum--\n",
    "            SELECT\n",
    "                -- need to figure out how to melt tier qs data value-- \n",
    "                <pick elements from csv> LEFT JOIN on id = b.id             \n",
    "                (SELECT * FROM form_tierqs ft where tierqs_helper in ('CB2', 'CB5', 'CB6', 'CB7') ) b\n",
    "            \"\"\"\n",
    "    #check query op\n",
    "    print(ctx.execute(q1,eager=True))\n",
    "    return None"
   ]
  },
  {
   "cell_type": "code",
   "execution_count": 12,
   "id": "5191bed1-b3b0-4a57-9b5f-b0925b65b88b",
   "metadata": {},
   "outputs": [],
   "source": [
    "def clean_form10_data(data_path:str)->pl.DataFrame:\n",
    "    #read csv\n",
    "    d_pl = pl.read_csv(data_path)\n",
    "    d_pd = pd.read_csv(data_path)\n",
    "\n",
    "    # get uncleaned data descr\n",
    "    d_pl.describe()\n",
    "    \n",
    "\n",
    "    # unqiue ID_REP dict\n",
    "    id_unq:  d_pl.select(pl.col('id').unique())[1] # uniqure rows\n",
    "    print(id_unq) # confirm need index and ID_REP\n",
    "\n",
    "    # slice date cols\n",
    "    rp_cols\n",
    "\n",
    "    # func to add row into slice date dataframe\n",
    "    \n",
    "    def pivot_obj_cols(unq_df:pl.DataFrame)->pl.DataFrame:\n",
    "        \"\"\"\n",
    "            Takes IDREP unique df, perform Column transformation for Obj cols \n",
    "            and generate tidy dataframe\n",
    "        \"\"\"\n",
    "        # get ID_REP, flter&select obj cols, pivot and create tidy data\n",
    "        tidy_pl = d_pl[:,'col1':'col10'] # confirm col names\n",
    "        # create empty df to store tidy IDREP data\n",
    "        \n",
    "        return tidy_pl\n",
    "\n",
    "    def slice_data_cols()->pd.DataFrame:\n",
    "        \"\"\"\n",
    "            Takes slice of IDREP and generate date dataframe\n",
    "        \"\"\"\n",
    "        # slice date cols\n",
    "        date_cols = ['id','bp1','bp2']\n",
    "        \n",
    "        # date diff calculation\n",
    "        d_pd.loc[:,date_cols]\n",
    "\n",
    "        # split,cast,datediff\n",
    "        def common_indexes():->list[int]:\n",
    "            # split values, strip whitespace, cast and date diff\n",
    "            # pull rows where date diff matches \n",
    "        "
   ]
  },
  {
   "cell_type": "code",
   "execution_count": null,
   "id": "ae53fab9-cf75-4a86-b541-e65aeb3aeb6c",
   "metadata": {},
   "outputs": [],
   "source": []
  }
 ],
 "metadata": {
  "kernelspec": {
   "display_name": "Python 3 (ipykernel)",
   "language": "python",
   "name": "python3"
  },
  "language_info": {
   "codemirror_mode": {
    "name": "ipython",
    "version": 3
   },
   "file_extension": ".py",
   "mimetype": "text/x-python",
   "name": "python",
   "nbconvert_exporter": "python",
   "pygments_lexer": "ipython3",
   "version": "3.13.5"
  }
 },
 "nbformat": 4,
 "nbformat_minor": 5
}
