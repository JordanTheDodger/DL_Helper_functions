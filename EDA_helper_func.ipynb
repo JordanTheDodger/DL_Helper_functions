{
 "cells": [
  {
   "cell_type": "code",
   "execution_count": 8,
   "id": "bf24b164-61c5-466e-8015-8496f05d8c15",
   "metadata": {},
   "outputs": [],
   "source": [
    "import time as t"
   ]
  },
  {
   "cell_type": "code",
   "execution_count": 4,
   "id": "a1ac8e62-964b-4915-9b71-6830133f747a",
   "metadata": {},
   "outputs": [
    {
     "name": "stdout",
     "output_type": "stream",
     "text": [
      "Python 3.13.5\n"
     ]
    }
   ],
   "source": [
    "!python --version"
   ]
  },
  {
   "cell_type": "code",
   "execution_count": 5,
   "id": "0bd75738-ef5f-4f64-8130-a11c66752ae5",
   "metadata": {},
   "outputs": [
    {
     "name": "stdout",
     "output_type": "stream",
     "text": [
      "Requirement already satisfied: polars in ./env/lib/python3.13/site-packages (1.31.0)\n"
     ]
    }
   ],
   "source": [
    "!pip install polars"
   ]
  },
  {
   "cell_type": "code",
   "execution_count": 2,
   "id": "1d65a3f9-5ed1-4beb-80e4-177388c78cd2",
   "metadata": {},
   "outputs": [],
   "source": [
    "import polars as pl\n",
    "import numpy as np\n",
    "import html\n",
    "# from Typing import Optional\n",
    "import glob"
   ]
  },
  {
   "cell_type": "code",
   "execution_count": null,
   "id": "0576819f-c8fc-4b9d-ba91-2c43a7d07e92",
   "metadata": {},
   "outputs": [],
   "source": [
    "# decorator to calculate function exection time\n",
    "def measure_time(func):\n",
    "    \"\"\"\n",
    "    A decorator function to calculate execution time.\n",
    "    \"\"\"\n",
    "\n",
    "    def wrapper(**kwargs):\n",
    "        start = time.time()\n",
    "        func()\n",
    "        end = time.time()\n",
    "        print(f\"Exection time: {end - start} seconds\")\n",
    "\n",
    "    return wrapper"
   ]
  },
  {
   "cell_type": "markdown",
   "id": "d8cab059-7744-4aed-bbb8-7fbc84dd5d9d",
   "metadata": {},
   "source": [
    "> if __name__ == \"__main__\":\n",
    ">   measure_time(main())"
   ]
  },
  {
   "cell_type": "markdown",
   "id": "36216df7-8162-42e8-82ba-3c0a0a856250",
   "metadata": {},
   "source": [
    "# Test Class"
   ]
  },
  {
   "cell_type": "code",
   "execution_count": null,
   "id": "181b5eaa-f453-460f-aa6b-b4ce8d1b9326",
   "metadata": {},
   "outputs": [],
   "source": [
    "class Helper:\n",
    "    def __init__(self,func_select:str)->None:\n",
    "        self.func_select = func_select\n",
    "\n",
    "    def __str__(self)->str:\n",
    "        attrs:str = ','.join(f'{k}={v!r}' for k,v in self.__dict__.items())\n",
    "        return f'{self.__class__.__name__}({attrs})'"
   ]
  },
  {
   "cell_type": "markdown",
   "id": "e784353d-cedd-4a55-904e-2df541203465",
   "metadata": {},
   "source": []
  },
  {
   "cell_type": "code",
   "execution_count": null,
   "id": "8438bdac-c3e5-4238-9d74-e3b04b6ab1b5",
   "metadata": {},
   "outputs": [],
   "source": []
  },
  {
   "cell_type": "markdown",
   "id": "22b274c2-35c8-45eb-b980-818a1db19a1f",
   "metadata": {},
   "source": [
    "# Helper functions"
   ]
  },
  {
   "cell_type": "code",
   "execution_count": null,
   "id": "d297bbc9-4ace-4f61-b984-95f59b39b975",
   "metadata": {},
   "outputs": [],
   "source": []
  },
  {
   "cell_type": "markdown",
   "id": "db9a9211-16bd-42bd-8b00-3cf82c747aab",
   "metadata": {},
   "source": [
    "## Date helper func"
   ]
  },
  {
   "cell_type": "code",
   "execution_count": 4,
   "id": "41490fe9-a4cb-4506-bd9c-ca93bde7e292",
   "metadata": {},
   "outputs": [],
   "source": [
    "def add_flag_if_date2_in_date1(lf: pl.LazyFrame, date1_col: str = \"date1\", date2_col: str = \"date2\", flag_col: str = \"flag\") -> pl.LazyFrame:\n",
    "    \"\"\"\n",
    "    Add a boolean column (flag_col) to lf: True if date2 value is in the set of unique, non-null date1 values.\n",
    "    \n",
    "    Args:\n",
    "        lf (pl.LazyFrame): Input LazyFrame.\n",
    "        date1_col (str): Column name from which to collect unique non-null values.\n",
    "        date2_col (str): Column name to check membership of.\n",
    "        flag_col (str): Name for the resulting boolean column.\n",
    "    \n",
    "    Returns:\n",
    "        pl.LazyFrame: The original LazyFrame with the flag column appended.\n",
    "    \"\"\"\n",
    "    # Step 1: Collect unique, non-null values from date1_col\n",
    "    date1_unique_expr = (\n",
    "        pl.col(date1_col).drop_nulls().unique().alias(\"date1_set\")\n",
    "    )\n",
    "    date1_unique = lf.select(date1_unique_expr).collect()[\"date1_set\"]\n",
    "    \n",
    "    # Step 2: Add the flag column based on membership checking\n",
    "    lf_flagged = lf.with_columns(\n",
    "        (\n",
    "            pl.when(\n",
    "                pl.col(date2_col).is_null() | date1_unique.is_empty()\n",
    "            )\n",
    "            .then(False)\n",
    "            .otherwise(pl.col(date2_col).is_in(date1_unique))\n",
    "            .alias(flag_col)\n",
    "        )\n",
    "    )\n",
    "    return lf_flagged\n",
    "\n",
    "# Example usage:\n",
    "# new_lf = add_flag_if_date2_in_date1(lf)\n"
   ]
  },
  {
   "cell_type": "code",
   "execution_count": null,
   "id": "038d45cb-01fd-4058-bd1a-6836a6923151",
   "metadata": {},
   "outputs": [],
   "source": []
  },
  {
   "cell_type": "markdown",
   "id": "d769aa70-ca74-4a02-9963-135cc6456322",
   "metadata": {},
   "source": [
    "## Html decoder function"
   ]
  },
  {
   "cell_type": "code",
   "execution_count": null,
   "id": "5a382bff-e577-4e74-8182-c1af4304ec54",
   "metadata": {},
   "outputs": [],
   "source": []
  },
  {
   "cell_type": "code",
   "execution_count": 3,
   "id": "588cf16d-9b91-4440-b018-3c5cf8274d40",
   "metadata": {},
   "outputs": [],
   "source": [
    "def html_decode(lf:pl.DataFrame,strcols_name:list[str])->pl.DataFrame:\n",
    "    \"\"\"\n",
    "    Add a boolean column (flag_col) to lf: True if date2 value is in the set of unique, non-null date1 values.\n",
    "    \n",
    "    Args:\n",
    "        lf (pl.LazyFrame): Input LazyFrame.\n",
    "        strcols_name (list[str]): list of Column name with html encoded string values.\n",
    "        \n",
    "    Returns:\n",
    "        pl.LazyFrame: The original LazyFrame with the flag column appended.\n",
    "    \"\"\"\n",
    "    lf_decoded = lf.with_columns(\n",
    "        pl.col(col).map_elements(\n",
    "            lambda x: html.unescape(str(x)) if x is not None else None,\n",
    "            skip_nulls=False,\n",
    "            return_dtype=pl.Utf8\n",
    "        ).alias(col)\n",
    "        for col in strcols_name\n",
    "    )\n",
    "    return lf_decoded"
   ]
  },
  {
   "cell_type": "code",
   "execution_count": null,
   "id": "5613fd45-e04e-4fdb-a684-4e685833a1c0",
   "metadata": {},
   "outputs": [],
   "source": []
  },
  {
   "cell_type": "code",
   "execution_count": null,
   "id": "479964f2-5a39-49df-a07a-50bad23a0c05",
   "metadata": {},
   "outputs": [],
   "source": []
  }
 ],
 "metadata": {
  "kernelspec": {
   "display_name": "Python 3 (ipykernel)",
   "language": "python",
   "name": "python3"
  },
  "language_info": {
   "codemirror_mode": {
    "name": "ipython",
    "version": 3
   },
   "file_extension": ".py",
   "mimetype": "text/x-python",
   "name": "python",
   "nbconvert_exporter": "python",
   "pygments_lexer": "ipython3",
   "version": "3.13.5"
  }
 },
 "nbformat": 4,
 "nbformat_minor": 5
}
