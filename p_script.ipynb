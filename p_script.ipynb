{
  "nbformat": 4,
  "nbformat_minor": 0,
  "metadata": {
    "colab": {
      "provenance": [],
      "collapsed_sections": [
        "NIY9rV55UMUU"
      ],
      "authorship_tag": "ABX9TyPyIfbKiGr03A2dUSHr0dbJ",
      "include_colab_link": true
    },
    "kernelspec": {
      "name": "python3",
      "display_name": "Python 3"
    },
    "language_info": {
      "name": "python"
    }
  },
  "cells": [
    {
      "cell_type": "markdown",
      "metadata": {
        "id": "view-in-github",
        "colab_type": "text"
      },
      "source": [
        "<a href=\"https://colab.research.google.com/github/JordanTheDodger/DL_Helper_functions/blob/main/p_script.ipynb\" target=\"_parent\"><img src=\"https://colab.research.google.com/assets/colab-badge.svg\" alt=\"Open In Colab\"/></a>"
      ]
    },
    {
      "cell_type": "code",
      "source": [
        "# test functions\n",
        "import pandas as pd\n",
        "import numpy as np\n",
        "import os\n",
        "# import <exclusive packs>\n"
      ],
      "metadata": {
        "id": "4JQPzd8r4bEW"
      },
      "execution_count": null,
      "outputs": []
    },
    {
      "cell_type": "code",
      "source": [
        "fp1 = input('Enter target columns')\n",
        "cols = fp1.split(',')\n",
        "for count,cols in enumerate(cols):\n",
        "  #print(f\"You entered:{count} col is{cols}\")\n"
      ],
      "metadata": {
        "colab": {
          "base_uri": "https://localhost:8080/"
        },
        "id": "gnkUCj7R5JS6",
        "outputId": "7dedb9e5-7bf0-433c-9da1-96db6c6727c2"
      },
      "execution_count": null,
      "outputs": [
        {
          "output_type": "stream",
          "name": "stdout",
          "text": [
            "Enter filepathtarget_col1,target_col2,target_col3\n",
            "You entered:0 col istarget_col1\n",
            "You entered:1 col istarget_col2\n",
            "You entered:2 col istarget_col3\n"
          ]
        }
      ]
    },
    {
      "cell_type": "code",
      "source": [
        "# name concat\n",
        "#def name_concat_cols(df,target_col):\n",
        "def name_concat_cols(x,y,z):\n",
        "  #import pandas as pd\n",
        "  #import os\n",
        "  #import numpy as np\n",
        "  #data1 = pd.read_csv(df)\n",
        "  #num = [1,2,3]\n",
        "  cols = []\n",
        "  cols.append(x)\n",
        "  cols.append(y)\n",
        "  cols.append(z)\n",
        "  for count,col in enumerate(cols):\n",
        "    print(f'You entered:{count} col as {col}')\n",
        "    #return pd.concat()"
      ],
      "metadata": {
        "id": "VpADdD438iJH"
      },
      "execution_count": null,
      "outputs": []
    },
    {
      "cell_type": "code",
      "source": [
        "name_concat_cols('target_col1','target_col2','target_col3')"
      ],
      "metadata": {
        "colab": {
          "base_uri": "https://localhost:8080/"
        },
        "id": "lxr2aP2e9l3A",
        "outputId": "34ee3c6c-4c05-4094-d0e6-bd6d77052daf"
      },
      "execution_count": null,
      "outputs": [
        {
          "output_type": "stream",
          "name": "stdout",
          "text": [
            "You entered:0 col as target_col1\n",
            "You entered:1 col as target_col2\n",
            "You entered:2 col as target_col3\n"
          ]
        }
      ]
    },
    {
      "cell_type": "code",
      "source": [
        "books: list[Book] = [\n",
        "    Book(isbn=1234, title=\"What is love?\"),\n",
        "    Book(isbn=4567, title=\"Baby don't hurt me\"),\n",
        "    Book(isbn=6789, title=\"Don't hurt me\"),\n",
        "]"
      ],
      "metadata": {
        "id": "1XhxU8S69tOx",
        "colab": {
          "base_uri": "https://localhost:8080/",
          "height": 252
        },
        "outputId": "67061673-b5ff-43a2-8ebe-d3cee7bdc69a"
      },
      "execution_count": null,
      "outputs": [
        {
          "output_type": "error",
          "ename": "NameError",
          "evalue": "ignored",
          "traceback": [
            "\u001b[0;31m---------------------------------------------------------------------------\u001b[0m",
            "\u001b[0;31mNameError\u001b[0m                                 Traceback (most recent call last)",
            "\u001b[0;32m<ipython-input-1-075676db22b3>\u001b[0m in \u001b[0;36m<cell line: 1>\u001b[0;34m()\u001b[0m\n\u001b[1;32m      1\u001b[0m books: list[Book] = [\n\u001b[0;32m----> 2\u001b[0;31m     \u001b[0mBook\u001b[0m\u001b[0;34m(\u001b[0m\u001b[0misbn\u001b[0m\u001b[0;34m=\u001b[0m\u001b[0;36m1234\u001b[0m\u001b[0;34m,\u001b[0m \u001b[0mtitle\u001b[0m\u001b[0;34m=\u001b[0m\u001b[0;34m\"What is love?\"\u001b[0m\u001b[0;34m)\u001b[0m\u001b[0;34m,\u001b[0m\u001b[0;34m\u001b[0m\u001b[0;34m\u001b[0m\u001b[0m\n\u001b[0m\u001b[1;32m      3\u001b[0m     \u001b[0mBook\u001b[0m\u001b[0;34m(\u001b[0m\u001b[0misbn\u001b[0m\u001b[0;34m=\u001b[0m\u001b[0;36m4567\u001b[0m\u001b[0;34m,\u001b[0m \u001b[0mtitle\u001b[0m\u001b[0;34m=\u001b[0m\u001b[0;34m\"Baby don't hurt me\"\u001b[0m\u001b[0;34m)\u001b[0m\u001b[0;34m,\u001b[0m\u001b[0;34m\u001b[0m\u001b[0;34m\u001b[0m\u001b[0m\n\u001b[1;32m      4\u001b[0m     \u001b[0mBook\u001b[0m\u001b[0;34m(\u001b[0m\u001b[0misbn\u001b[0m\u001b[0;34m=\u001b[0m\u001b[0;36m6789\u001b[0m\u001b[0;34m,\u001b[0m \u001b[0mtitle\u001b[0m\u001b[0;34m=\u001b[0m\u001b[0;34m\"Don't hurt me\"\u001b[0m\u001b[0;34m)\u001b[0m\u001b[0;34m,\u001b[0m\u001b[0;34m\u001b[0m\u001b[0;34m\u001b[0m\u001b[0m\n\u001b[1;32m      5\u001b[0m ]\n",
            "\u001b[0;31mNameError\u001b[0m: name 'Book' is not defined"
          ]
        }
      ]
    },
    {
      "cell_type": "code",
      "source": [],
      "metadata": {
        "id": "c_Su81il80M3"
      },
      "execution_count": null,
      "outputs": []
    },
    {
      "cell_type": "markdown",
      "source": [
        "Setup.py to check package dependency"
      ],
      "metadata": {
        "id": "ejs8uo9P87NG"
      }
    },
    {
      "cell_type": "code",
      "source": [
        "import subprocess\n",
        "import sys"
      ],
      "metadata": {
        "id": "0k4oBZLs80KG"
      },
      "execution_count": null,
      "outputs": []
    },
    {
      "cell_type": "code",
      "source": [
        "os.execv(\" \".join((sys.excecutable, *sys.argv)))"
      ],
      "metadata": {
        "id": "XodgG4Ww80HS"
      },
      "execution_count": null,
      "outputs": []
    },
    {
      "cell_type": "code",
      "source": [
        "!pwd\n",
        "# pack_cls = Package()."
      ],
      "metadata": {
        "colab": {
          "base_uri": "https://localhost:8080/"
        },
        "id": "6sY9RFusmpPp",
        "outputId": "699b6ecc-7358-402b-ec35-f00f808aac55"
      },
      "execution_count": null,
      "outputs": [
        {
          "output_type": "stream",
          "name": "stdout",
          "text": [
            "/content\n"
          ]
        }
      ]
    },
    {
      "cell_type": "code",
      "source": [
        "def get_user_req(package_name:str,desired_version=\"\"):\n",
        "  # get user input\n",
        "  if len(desired_version) == 0:\n",
        "    desired_version = input('Enter verison')\n",
        "    usr_req = f\"{package_name}=={desired_version}\"\n",
        "  return usr_req\n",
        "  # structre for get_packge_info fun"
      ],
      "metadata": {
        "id": "a9XaZ0JNqLmS"
      },
      "execution_count": null,
      "outputs": []
    },
    {
      "cell_type": "code",
      "source": [
        "get_user_req('db2-helper')"
      ],
      "metadata": {
        "colab": {
          "base_uri": "https://localhost:8080/",
          "height": 52
        },
        "id": "3XSTB-qOyK30",
        "outputId": "66f97ffe-15ca-4c10-e943-6592a7e7671e"
      },
      "execution_count": null,
      "outputs": [
        {
          "name": "stdout",
          "output_type": "stream",
          "text": [
            "Enter verison1.0.7\n"
          ]
        },
        {
          "output_type": "execute_result",
          "data": {
            "text/plain": [
              "'db2-helper==1.0.7'"
            ],
            "application/vnd.google.colaboratory.intrinsic+json": {
              "type": "string"
            }
          },
          "metadata": {},
          "execution_count": 7
        }
      ]
    },
    {
      "cell_type": "code",
      "source": [
        "import sys\n",
        "sys.path"
      ],
      "metadata": {
        "id": "pJCJ3n0BmWhp",
        "colab": {
          "base_uri": "https://localhost:8080/"
        },
        "outputId": "8bca8aba-494c-4530-80bc-91054e9cf875"
      },
      "execution_count": null,
      "outputs": [
        {
          "output_type": "execute_result",
          "data": {
            "text/plain": [
              "['/content',\n",
              " '/env/python',\n",
              " '/usr/lib/python310.zip',\n",
              " '/usr/lib/python3.10',\n",
              " '/usr/lib/python3.10/lib-dynload',\n",
              " '',\n",
              " '/usr/local/lib/python3.10/dist-packages',\n",
              " '/usr/lib/python3/dist-packages',\n",
              " '/usr/local/lib/python3.10/dist-packages/IPython/extensions',\n",
              " '/root/.ipython']"
            ]
          },
          "metadata": {},
          "execution_count": 2
        }
      ]
    },
    {
      "cell_type": "code",
      "source": [
        "!echo $PATH"
      ],
      "metadata": {
        "colab": {
          "base_uri": "https://localhost:8080/"
        },
        "id": "xspYZQwQPkxl",
        "outputId": "009aefad-e739-4110-bc20-57f39e0fecbb"
      },
      "execution_count": null,
      "outputs": [
        {
          "output_type": "stream",
          "name": "stdout",
          "text": [
            "/opt/bin:/usr/local/nvidia/bin:/usr/local/cuda/bin:/usr/local/sbin:/usr/local/bin:/usr/sbin:/usr/bin:/sbin:/bin:/tools/node/bin:/tools/google-cloud-sdk/bin\n"
          ]
        }
      ]
    },
    {
      "cell_type": "code",
      "source": [
        "import os\n",
        "import sys\n",
        "import subprocess\n",
        "class Package_installer():\n",
        "    '''\n",
        "    This class offer following:\n",
        "      - Creating a virtual env\n",
        "      - Saving a virtual env\n",
        "      - Install package by user input\n",
        "    '''\n",
        "\n",
        "    virtual_dir = ''\n",
        "    def __init__(self,virtual_dir=''):\n",
        "        if not virtual_dir:\n",
        "            self.virtual_dir = !pwd\n",
        "            # need to set desired path first refer below\n",
        "            # https://stackoverflow.com/questions/39007571/running-jupyter-with-multiple-python-and-ipython-paths/39022003#39022003\n",
        "        # self.virtual_python = os.path.join(self.virtual_dir, \"Scripts\", \"python.exe\")\n",
        "        # self.virtual_python = os.path.join(self.virtual_dir)\n",
        "\n",
        "    # checking if venv is active\n",
        "    def run(self,venv_name=''):\n",
        "\n",
        "        if not venv_name:\n",
        "          venv_nm = input()\n",
        "          try:\n",
        "            !{sys.executable},\"\"pip\",\"--prefix\",{sys.prefix},\"python3\"\n",
        "            !{sys.executable},\"-m\",\"pip\",\"install\",\"--user\",\"virtualenv\",venv_name\n",
        "            return self.activate_venv(venv_name)\n",
        "          except:\n",
        "            return KeyError('Name of virtual env cant be empty')\n",
        "\n",
        "    def activate_venv(self,venv_name):\n",
        "        # print('Activate virtual dir')\n",
        "        subprocess.call([sys.executable, \"virtualenv\", \"venv\",venv_name])\n",
        "        return 'Activating virtual env'\n",
        "\n",
        "    def deactivate_venv():\n",
        "        print('Deactivating virtual env')\n",
        "        subprocess.call([sys.executable,\"deactivate\"])\n",
        "        return 'Deactivating virtual env'\n",
        "\n",
        "    def save_venv(self,virtual_dir):\n",
        "        # run pip freeze><parent_dir>/saved_venvs/requirements.txt and save requirements.txt at parent dir of virtual_dir: <parent_dir>/.../venv_name\n",
        "        # print('Saving venv')\n",
        "        subprocess.call([sys.executable, \"pip freeze > requirements.txt\"])\n",
        "        return 'Saving venv'\n",
        "\n",
        "    def install_pack(self,package=''): #Tested\n",
        "        try:\n",
        "            __import__(package)\n",
        "        except:\n",
        "            if not package:\n",
        "              return ValueError('Require a package name')\n",
        "            else:\n",
        "              package = input()\n",
        "              return subprocess.call([sys.executable, \"-m\", \"pip\", \"install\", package])\n",
        "\n",
        "    def install_pack_wversion(self,package='',version=''):\n",
        "        try:\n",
        "            __import__(package)\n",
        "        except:\n",
        "          if not package or not version:\n",
        "            return ValueError('Require package name and version')\n",
        "          else:\n",
        "            return subprocess.call([sys.executable, \"-m\", \"pip\", \"install\", package, \"==\",version])\n"
      ],
      "metadata": {
        "id": "-9dNjNNfVYwO"
      },
      "execution_count": null,
      "outputs": []
    },
    {
      "cell_type": "markdown",
      "source": [
        "# Future hooks"
      ],
      "metadata": {
        "id": "Iw2fXqVD4gCs"
      }
    },
    {
      "cell_type": "code",
      "source": [
        "# vir_dir_path = (os.path.dirname(input(\"Enter virtual dir path\")))\n",
        "# vir_dir_path_py = os.path.join(vir_dir_path, \"abc\",\"ven_name\")\n",
        "# print(vir_dir_path_py.split('/')[-1])\n",
        "# pack_req = Package_checker('p_scripts')\n",
        "# print(pack_req)\n",
        "# /Users/jordanwork/p_scripts\n",
        "packagechecker = Package_installer()\n",
        "print(packagechecker.virtual_dir)\n",
        "packagechecker.run()"
      ],
      "metadata": {
        "id": "jHvA8oJN4wVi",
        "colab": {
          "base_uri": "https://localhost:8080/",
          "height": 90
        },
        "outputId": "961cda86-cf3d-41e5-a422-a43d14d94820"
      },
      "execution_count": null,
      "outputs": [
        {
          "output_type": "stream",
          "name": "stdout",
          "text": [
            "['/content']\n",
            "pscf\n",
            "/bin/bash: line 1: /usr/bin/python3,: No such file or directory\n"
          ]
        },
        {
          "output_type": "execute_result",
          "data": {
            "text/plain": [
              "'Activating virtual env'"
            ],
            "application/vnd.google.colaboratory.intrinsic+json": {
              "type": "string"
            }
          },
          "metadata": {},
          "execution_count": 12
        }
      ]
    },
    {
      "cell_type": "code",
      "source": [],
      "metadata": {
        "colab": {
          "base_uri": "https://localhost:8080/"
        },
        "id": "2wQd1W124-5F",
        "outputId": "7dfa6355-f662-4b92-acb3-b773a5ec0a5f"
      },
      "execution_count": null,
      "outputs": [
        {
          "output_type": "execute_result",
          "data": {
            "text/plain": [
              "['/content']"
            ]
          },
          "metadata": {},
          "execution_count": 16
        }
      ]
    },
    {
      "cell_type": "markdown",
      "source": [
        "# Pip_installer Class blueprint"
      ],
      "metadata": {
        "id": "NIY9rV55UMUU"
      }
    },
    {
      "cell_type": "markdown",
      "source": [
        "*Attributes*\n",
        "\n",
        "> - path where virtual env will be created  \n",
        "> - vennv name\n",
        "> - activate venv\n",
        "> - install pip\n",
        "> - intsall other packages\n",
        "\n",
        "\n",
        "\n",
        "\n",
        "\n"
      ],
      "metadata": {
        "id": "4kcxUrwfUS_E"
      }
    },
    {
      "cell_type": "code",
      "source": [
        "ipdata = input('enter value')"
      ],
      "metadata": {
        "colab": {
          "base_uri": "https://localhost:8080/"
        },
        "id": "SCo2-G9Yf-hT",
        "outputId": "e1a711c9-7275-4ce3-bf9d-7fcc74367104"
      },
      "execution_count": null,
      "outputs": [
        {
          "name": "stdout",
          "output_type": "stream",
          "text": [
            "enter value/usr/work\n"
          ]
        }
      ]
    },
    {
      "cell_type": "code",
      "source": [],
      "metadata": {
        "id": "e4imRZQTHUkH"
      },
      "execution_count": null,
      "outputs": []
    }
  ]
}